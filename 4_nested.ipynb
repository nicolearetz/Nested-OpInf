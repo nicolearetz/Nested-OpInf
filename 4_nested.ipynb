{
 "cells": [
  {
   "cell_type": "markdown",
   "id": "101ed5b9",
   "metadata": {},
   "source": [
    "# nested"
   ]
  },
  {
   "cell_type": "code",
   "execution_count": 1,
   "id": "406e90e6",
   "metadata": {},
   "outputs": [],
   "source": [
    "import numpy as np\n",
    "import scipy.linalg as la\n",
    "import scipy.sparse as sparse\n",
    "import matplotlib.pyplot as plt\n",
    "import torch\n",
    "from sympy.utilities.iterables import multiset_permutations\n",
    "import pickle\n",
    "\n",
    "import time\n",
    "tStart_notebook = time.time()\n",
    "\n",
    "import sys\n",
    "sys.path.insert(0, '../source')\n",
    "\n",
    "from source.FomShallowIce import FomShallowIce\n",
    "from source.PolyRomIntrusiveShallowIce import PolyRomIntrusiveShallowIce\n",
    "from source.FoodReprojectionTime import FoodReprojectionTime\n",
    "from source.FoodTime import FoodTime\n",
    "import source.comparisons as testing\n",
    "from source.ConstrainedOpInf import ConstrainedOpInf\n",
    "from source.SnapshotTransformer import SnapshotTransformerExtension as SnapshotTransformer\n",
    "#from fom.FomShallowIce_approx8 import FomShallowIce_approx8\n",
    "from source.NestFire import NestFire\n",
    "from source.ConstrainedOpInf import ConstrainedOpInf\n",
    "\n",
    "import opinf as opinf\n",
    "\n",
    "import source.helpers_polyMat as polyMat\n",
    "import source.helpers_opinf as helpers_opinf\n",
    "import source.solvers as solvers"
   ]
  },
  {
   "cell_type": "markdown",
   "id": "f400929d",
   "metadata": {},
   "source": [
    "## User settings"
   ]
  },
  {
   "cell_type": "code",
   "execution_count": null,
   "id": "cdb6132d",
   "metadata": {},
   "outputs": [],
   "source": []
  },
  {
   "cell_type": "markdown",
   "id": "ad794617",
   "metadata": {},
   "source": [
    "## Setup"
   ]
  },
  {
   "cell_type": "code",
   "execution_count": 2,
   "id": "d2a918b4",
   "metadata": {},
   "outputs": [],
   "source": [
    "with open('data/RB_slicer1', 'rb') as handle:\n",
    "    [transformer, U_train, VR, nRB, slicer] = pickle.load(handle)"
   ]
  },
  {
   "cell_type": "code",
   "execution_count": 3,
   "id": "b9d82d6a",
   "metadata": {},
   "outputs": [],
   "source": [
    "nRB = 7\n",
    "VR = VR[:, :nRB]"
   ]
  },
  {
   "cell_type": "code",
   "execution_count": 4,
   "id": "59d35855",
   "metadata": {},
   "outputs": [],
   "source": [
    "fom = FomShallowIce(Lx=1000, \n",
    "                    Lz=1, \n",
    "                    orders=[511], \n",
    "                    bc_type=\"N\", \n",
    "                    dt=1e-3, \n",
    "                    init_time=0, \n",
    "                    final_time=2)\n",
    "\n",
    "# fom = FomShallowIce_approx8(Lx=1000, \n",
    "#                     Lz=1, \n",
    "#                     orders=[511], \n",
    "#                     bc_type=\"N\", \n",
    "#                     dt=1e-3, \n",
    "#                     init_time=0, \n",
    "#                     final_time=10)\n",
    "\n",
    "U_dot = opinf.pre.ddt(U_train, fom.dt, order=2)\n",
    "U_dot_proj = VR.T @ U_dot\n",
    "\n",
    "U_proj = VR.T @ U_train\n",
    "\n",
    "matrixhandler = FoodReprojectionTime(VR, fom, transformer=transformer)\n",
    "matrixhandler.set_data(snapshots = [U_train], source = [U_dot_proj.T], slicer = 1)"
   ]
  },
  {
   "cell_type": "code",
   "execution_count": 5,
   "id": "dd9fd924",
   "metadata": {},
   "outputs": [],
   "source": [
    "U_train_proj = VR.T @ U_train"
   ]
  },
  {
   "cell_type": "code",
   "execution_count": 6,
   "id": "6d98a602",
   "metadata": {},
   "outputs": [
    {
     "data": {
      "text/plain": [
       "(2001, 3087)"
      ]
     },
     "execution_count": 6,
     "metadata": {},
     "output_type": "execute_result"
    }
   ],
   "source": [
    "matrixhandler.D.shape"
   ]
  },
  {
   "cell_type": "markdown",
   "id": "9179b5c0",
   "metadata": {},
   "source": [
    "## Helper functions"
   ]
  },
  {
   "cell_type": "code",
   "execution_count": 7,
   "id": "b072a523",
   "metadata": {},
   "outputs": [],
   "source": [
    "def subspacelearning(indexset, inferred, K_add, index_tracker, D_ex, R_ex):\n",
    "    \n",
    "    # initialize\n",
    "    D_I = matrixhandler.get_data_matrix(indices=indexset)\n",
    "    known = matrixhandler.blow_down(indices = indexset, \n",
    "                                    big_matrix = inferred, \n",
    "                                    indices_testspace=[*range(nRB)], \n",
    "                                    nRB=nRB)\n",
    "    adjustment = D_I @ known\n",
    "    expansion = np.zeros((D_I.shape[1], nRB))\n",
    "    \n",
    "    # find out which column entries are already known\n",
    "    known_indices = matrixhandler.blow_down(indices = indexset, \n",
    "                                    big_matrix = index_tracker, \n",
    "                                    indices_testspace=[0], \n",
    "                                    nRB=nRB)\n",
    "    subindices = np.where(known[:, 0] == 0)[0]\n",
    "    \n",
    "    # remove known columns\n",
    "    D_I = D_I[:, subindices]\n",
    "    \n",
    "    # remove columns that are too close to zero\n",
    "    norms = la.norm(D_I, axis = 0, ord = np.infty)\n",
    "    large_enough = np.where(norms > 1e-10 * np.max(norms))[0]\n",
    "    large_enough = large_enough[np.where(norms[large_enough] > 1e-10)[0]]\n",
    "    subindices = subindices[large_enough]\n",
    "    D_I = D_I[:, large_enough]\n",
    "    \n",
    "    if D_I.shape[1] > 0:\n",
    "    \n",
    "        # identify most linearly independent rows\n",
    "        Q, R, P = la.qr(D_I.T, pivoting=True)\n",
    "        P = P[:D_I.shape[1] + 5]\n",
    "        D_I = D_I[P, :]\n",
    "        \n",
    "        # check condition number for D_I\n",
    "#         U, svals, Vt = la.svd(D_I)\n",
    "#         cond = svals[0] / svals[-1]\n",
    "#         print(\"condition number: \", cond)\n",
    "        \n",
    "        # which reduced space are we working on btw?\n",
    "        V_I = VR[:, indexset]\n",
    "        R_I = np.zeros((np.min([P.shape[0], K_add]), nRB))\n",
    "        \n",
    "        # compute snapshot derivatives\n",
    "        for k in range(np.min([P.shape[0], K_add])):\n",
    "            s = V_I @ U_train_proj[indexset, P[k]]\n",
    "            reprojection = transformer.inverse_transform(s)\n",
    "            rhs = fom.apply_governing_eq(np.array([reprojection]).T, para=matrixhandler.Xi_train[0, :])\n",
    "            rhs = transformer.transform(rhs).T @ VR\n",
    "            R_I[k, :] = rhs\n",
    "            \n",
    "        # don't try to learn new entries if there's not enough data\n",
    "        if K_add < P.shape[0]:\n",
    "            print(\"not enough budget left\")\n",
    "            return False, inferred, 0, index_tracker, D_ex, R_ex\n",
    "        \n",
    "        # adjust our remaining budget\n",
    "        K_add -= P.shape[0]\n",
    "        \n",
    "        # solve least squares problem\n",
    "        learned = solvers.lstsq_truncSVD(D=D_I, \n",
    "                                         R=R_I-adjustment[P, :], \n",
    "                                         cutoff=1e-8, \n",
    "                                         bool_rescale=True, \n",
    "                                         bool_relative_cutoff=False)\n",
    "        expansion[subindices, :] = learned\n",
    "        \n",
    "        # save D_I and R_I for the final least squares problem\n",
    "        D_large = matrixhandler.get_data_matrix(indices=indexset)\n",
    "        D_large = D_large[P, :]\n",
    "        D_large = matrixhandler.blow_up(indices=indexset, \n",
    "                                                  A_sub=D_large.T, \n",
    "                                                  new_shape=(D_ex.shape[1], D_large.shape[0]), \n",
    "                                                  indices_testspace=[*range(D_large.shape[0])], nRB=nRB)   \n",
    "        D_ex = np.vstack([D_ex, D_large.T])\n",
    "        R_ex = np.vstack([R_ex, R_I])\n",
    "    \n",
    "    # save the entries we just learned at the correct position\n",
    "    expansion = matrixhandler.blow_up(indices=indexset, \n",
    "                                              A_sub=expansion, \n",
    "                                              new_shape=inferred.shape, \n",
    "                                              indices_testspace=[*range(nRB)])   \n",
    "    inferred = inferred + expansion\n",
    "    \n",
    "    # remember which entries we've learned for the future\n",
    "    known_indices[:, 0] = 1\n",
    "    known_indices = matrixhandler.blow_up(indices=indexset, \n",
    "                                              A_sub=known_indices, \n",
    "                                              new_shape=index_tracker.shape, \n",
    "                                              indices_testspace=[0])\n",
    "    index_tracker = index_tracker + known_indices\n",
    "    \n",
    "    \n",
    "    \n",
    "    return True, inferred, K_add, index_tracker, D_ex, R_ex"
   ]
  },
  {
   "cell_type": "markdown",
   "id": "2253f033",
   "metadata": {},
   "source": [
    "## Nested OpInf\n",
    "as described in the CDC paper"
   ]
  },
  {
   "cell_type": "code",
   "execution_count": 8,
   "id": "b8e49eb8",
   "metadata": {},
   "outputs": [
    {
     "name": "stdout",
     "output_type": "stream",
     "text": [
      "sanity check: [0.00429586 0.0110022  0.01168178 0.01254524 0.0071722  0.0160791\n",
      " 0.00578659]\n",
      "runtime for this block:  2.9706075191497803 s.\n"
     ]
    }
   ],
   "source": [
    "tStart = time.time()\n",
    "\n",
    "D_R = matrixhandler.D\n",
    "R_R = matrixhandler.R\n",
    "\n",
    "K_add = matrixhandler.D.shape[0]\n",
    "inferred = np.zeros(matrixhandler.get_shape(n=nRB))\n",
    "index_tracker = np.zeros((D_R.shape[1], 1), dtype=int)\n",
    "\n",
    "D_ex = np.zeros((0, D_R.shape[1]))\n",
    "R_ex = np.zeros((0, nRB))\n",
    "\n",
    "# sanity check\n",
    "R_e = matrixhandler.get_rhs_matrix(indices = [*range(nRB)], indices_testspace=[*range(nRB)])\n",
    "print(\"sanity check:\", la.norm(R_R - R_e, axis = 0, ord=np.infty))\n",
    "\n",
    "for r in range(nRB):\n",
    "    for d in range(1, r+2):\n",
    "        subsets = helpers_opinf.get_all_subsets_of_size([*range(r)], d-1)\n",
    "        for sub in subsets:\n",
    "            indexset = sub + [r]\n",
    "            #print(\"current indexset:\", indexset, K_add)\n",
    "            \n",
    "            bool_expanded, inferred, K_add, index_tracker, D_ex, R_ex = subspacelearning(indexset, \n",
    "                                                                             inferred, \n",
    "                                                                             K_add, \n",
    "                                                                             index_tracker, D_ex, R_ex)\n",
    "            \n",
    "            if K_add <= 0:\n",
    "                break\n",
    "            \n",
    "            if bool_expanded is False:\n",
    "                break\n",
    "                \n",
    "        if K_add <= 0:\n",
    "                break\n",
    "            \n",
    "        if bool_expanded is False:\n",
    "            break\n",
    "    \n",
    "    if K_add <= 0:\n",
    "        break\n",
    "        \n",
    "print(\"runtime for this block: \", time.time()-tStart, \"s.\")"
   ]
  },
  {
   "cell_type": "code",
   "execution_count": 9,
   "id": "f1cec083",
   "metadata": {},
   "outputs": [],
   "source": [
    "D = np.vstack([D_R, D_ex])\n",
    "R = np.vstack([R_R, R_ex])\n",
    "\n",
    "# opinf_helper = ConstrainedOpInf(matrixhandler=matrixhandler)\n",
    "# weights = opinf_helper.get_weights([1, 1], 1e-3)\n",
    "# weights = np.hstack([weights, 1e-3 * np.ones(D_ex.shape[0])])\n",
    "\n",
    "weights = np.hstack([np.ones(D_R.shape[0]), 1e-4 * np.ones(D_ex.shape[0])])\n",
    "D = (D.T / np.sqrt(weights)).T\n",
    "R = (R.T / np.sqrt(weights)).T\n",
    "\n",
    "D, R = polyMat.extend_for_regularization(D, \n",
    "                                         [*range(nRB)], \n",
    "                                         nRB, \n",
    "                                         fom.polyOrders, \n",
    "                                         fom.affineOrders, \n",
    "                                         [1e-3, 5e+4], \n",
    "                                         R=R - D @ inferred)\n",
    "\n",
    "inferred_2 = solvers.lstsq_truncSVD(D=D, R=R, \n",
    "                                         cutoff=1e-10, \n",
    "                                         bool_rescale=True, \n",
    "                                         bool_relative_cutoff=False)\n",
    "\n",
    "# inferred_2 = la.solve(D.T @ D, D.T @ R)\n",
    "\n",
    "inferred_2 = inferred_2 + inferred"
   ]
  },
  {
   "cell_type": "code",
   "execution_count": 10,
   "id": "e50d751e",
   "metadata": {},
   "outputs": [],
   "source": [
    "# tStart = time.time()\n",
    "# grid_t = 1e-3*np.arange(2001)\n",
    "\n",
    "# err_min = np.infty\n",
    "# inferred_min = None\n",
    "\n",
    "# for reg1 in np.logspace(-6, 6, 5): #np.logspace(-3, 2, 5):\n",
    "#     for reg2 in np.logspace(0, 6, 5):\n",
    "#         if reg1 <= reg2:\n",
    "            \n",
    "#             D = np.vstack([D_R, D_ex])\n",
    "#             R = np.vstack([R_R, R_ex])\n",
    "\n",
    "#             weights = np.hstack([np.ones(D_R.shape[0]), 1e-4 * np.ones(D_ex.shape[0])])\n",
    "#             D = (D.T / np.sqrt(weights)).T\n",
    "#             R = (R.T / np.sqrt(weights)).T\n",
    "\n",
    "#             D, R = polyMat.extend_for_regularization(D, \n",
    "#                                                      [*range(nRB)], \n",
    "#                                                      nRB, \n",
    "#                                                      fom.polyOrders, \n",
    "#                                                      fom.affineOrders, \n",
    "#                                                      [reg1, reg2], \n",
    "#                                                      R=R - D @ inferred)\n",
    "\n",
    "#             inferred_2 = solvers.lstsq_truncSVD(D=D, R=R, \n",
    "#                                                      cutoff=1e-10, \n",
    "#                                                      bool_rescale=True, \n",
    "#                                                      bool_relative_cutoff=False)\n",
    "            \n",
    "#             inferred_2 = inferred_2 + inferred\n",
    "\n",
    "#             rom = matrixhandler.get_reduced_model(A_new = inferred_2, indices = [*range(nRB)])\n",
    "#             sol_RB = rom.solve(grid_t=grid_t, para=[1], bool_explicit_euler=False)\n",
    "\n",
    "#             if not np.isnan(sol_RB).any():\n",
    "#                 Sol_RB = rom.toFO(sol_RB)\n",
    "#                 error = la.norm(Sol_RB-U_train)\n",
    "\n",
    "#                 if error < err_min:\n",
    "#                     inferred_min = inferred_2\n",
    "#                     err_min = error\n",
    "                    \n",
    "# print(\"runtime for this block: \", time.time()-tStart, \"s.\")"
   ]
  },
  {
   "cell_type": "code",
   "execution_count": 11,
   "id": "0e7cec4a",
   "metadata": {},
   "outputs": [],
   "source": [
    "# R_test = matrixhandler.get_rhs_matrix(indices=[*range(nRB)])\n",
    "\n",
    "# for i in range(nRB):\n",
    "#     plt.semilogy(np.abs(R_test[:, i] - R_R[:, i]), label = \"error\")\n",
    "# plt.semilogy(weights, label = \"weights\")\n",
    "\n",
    "# plt.legend()"
   ]
  },
  {
   "cell_type": "code",
   "execution_count": 12,
   "id": "6099fe96",
   "metadata": {},
   "outputs": [],
   "source": [
    "#la.norm(inferred_min-inferred, ord=np.infty)"
   ]
  },
  {
   "cell_type": "code",
   "execution_count": 13,
   "id": "9f6e7979",
   "metadata": {},
   "outputs": [],
   "source": [
    "#plt.semilogy(np.vstack([D_R, D_ex]) @ inferred_2[:, 0] - np.vstack([R_R, R_ex])[:, 0])"
   ]
  },
  {
   "cell_type": "markdown",
   "id": "fb359744",
   "metadata": {},
   "source": [
    "## testing"
   ]
  },
  {
   "cell_type": "code",
   "execution_count": 15,
   "id": "3c1d7267",
   "metadata": {},
   "outputs": [],
   "source": [
    "ROMq_nested = np.zeros(nRB, dtype = object)\n",
    "\n",
    "for n in range(nRB):\n",
    "    ROMq_nested[n] = matrixhandler.get_reduced_model(A_new = inferred, indices = [*range(n+1)])\n",
    "    \n",
    "ROMq_nested_2 = np.zeros(nRB, dtype = object)\n",
    "\n",
    "for n in range(nRB):\n",
    "    ROMq_nested_2[n] = matrixhandler.get_reduced_model(A_new = inferred_2, indices = [*range(n+1)])\n",
    "\n",
    "# names = [\"nested\", \"nested final\", \"projection\"]\n",
    "# list_ROMq = [ROMq_nested, ROMq_nested_2]\n",
    "\n",
    "names = [\"nested final\", \"projection\"]\n",
    "list_ROMq = [ROMq_nested_2]\n",
    "    \n",
    "with open('data/fom_1e-3', 'rb') as handle:\n",
    "    [U, grid_t, final_time] = pickle.load(handle)"
   ]
  },
  {
   "cell_type": "code",
   "execution_count": 16,
   "id": "2fa013f9",
   "metadata": {},
   "outputs": [
    {
     "name": "stdout",
     "output_type": "stream",
     "text": [
      "r = 1: Online compute time: 3.494074821472168 s.\n",
      "r = 2: Online compute time: 3.935091733932495 s.\n",
      "r = 3: Online compute time: 3.9185245037078857 s.\n",
      "r = 4: Online compute time: 4.004530191421509 s.\n",
      "r = 5: Online compute time: 4.186920881271362 s.\n",
      "r = 6: Online compute time: 4.344851732254028 s.\n",
      "r = 7: Online compute time: 4.753669261932373 s.\n"
     ]
    }
   ],
   "source": [
    "errors = testing.error_comparison(list_ROMq = list_ROMq, \n",
    "                                  list_U_test = [U], \n",
    "                                  grid_t = grid_t, \n",
    "                                  Xi_test = [None], \n",
    "                                  VR = VR)"
   ]
  },
  {
   "cell_type": "code",
   "execution_count": 17,
   "id": "7d22227c",
   "metadata": {},
   "outputs": [
    {
     "name": "stdout",
     "output_type": "stream",
     "text": [
      "figsize:  10 4\n"
     ]
    },
    {
     "data": {
      "image/png": "[encoded data removed]",
      "text/plain": [
       "<Figure size 1000x500 with 2 Axes>"
      ]
     },
     "metadata": {},
     "output_type": "display_data"
    }
   ],
   "source": [
    "testing.plot_error_comparison_horizontal(errors = errors, \n",
    "                              model_indices = [*range(len(names))], \n",
    "                              error_indices = [0], \n",
    "                              para_index = 0, \n",
    "                              final_training_time = 2, \n",
    "                              grid_t = grid_t, \n",
    "                              names = names)"
   ]
  },
  {
   "cell_type": "code",
   "execution_count": 18,
   "id": "3b84606f",
   "metadata": {},
   "outputs": [],
   "source": [
    "with open('data/nested_regularized_3', 'wb') as handle:\n",
    "    pickle.dump(ROMq_nested_2, handle, protocol=pickle.HIGHEST_PROTOCOL)"
   ]
  },
  {
   "cell_type": "markdown",
   "id": "04769a71",
   "metadata": {},
   "source": [
    "## The End."
   ]
  },
  {
   "cell_type": "code",
   "execution_count": 19,
   "id": "2360d0ac",
   "metadata": {},
   "outputs": [
    {
     "name": "stdout",
     "output_type": "stream",
     "text": [
      "Runtime of this notebook: 1.4481411854426065 min\n"
     ]
    }
   ],
   "source": [
    "print(\"Runtime of this notebook: {} min\".format((time.time()-tStart_notebook)/60))"
   ]
  },
  {
   "cell_type": "code",
   "execution_count": null,
   "id": "ea96086d",
   "metadata": {},
   "outputs": [],
   "source": []
  }
 ],
 "metadata": {
  "kernelspec": {
   "display_name": "Python 3 (ipykernel)",
   "language": "python",
   "name": "python3"
  },
  "language_info": {
   "codemirror_mode": {
    "name": "ipython",
    "version": 3
   },
   "file_extension": ".py",
   "mimetype": "text/x-python",
   "name": "python",
   "nbconvert_exporter": "python",
   "pygments_lexer": "ipython3",
   "version": "3.8.13"
  }
 },
 "nbformat": 4,
 "nbformat_minor": 5
}
